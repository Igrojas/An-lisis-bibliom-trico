{
 "cells": [
  {
   "cell_type": "code",
   "execution_count": 10,
   "metadata": {},
   "outputs": [],
   "source": [
    "import json\n",
    "import pickle\n",
    "import networkx as nx\n",
    "import pandas as pd\n",
    "from pyvis.network import Network\n",
    "\n",
    "# Función para cargar archivos JSON\n",
    "def load_json(filepath):\n",
    "    with open(filepath, 'r') as f:\n",
    "        return json.load(f)\n",
    "\n",
    "# Función para cargar archivos pickle\n",
    "def load_pickle(filepath):\n",
    "    with open(filepath, 'rb') as f:\n",
    "        return pickle.load(f)\n",
    "\n",
    "# Cargar datos\n",
    "data_autores = load_json('data/grafo_autores.json')\n",
    "data_papers = load_json('data/lista_papers.json')\n",
    "data_inst = load_json('data/grafo_instituciones.json')\n",
    "data_paper_inst = load_json('data/lista_papers_instituciones.json')\n",
    "data_cluster = load_pickle(\"data/cluster_authorrank_2000.pkl\")\n",
    "data_cluster_filiacion = load_pickle(\"data/cluster_filiacion_authorrank_500.pkl\")\n",
    "\n",
    "# Cargar archivos Excel\n",
    "salida_articulos = pd.read_excel(\"data/output_articles.xlsx\")\n",
    "salidas_topicos = pd.read_excel(\"data/salidas_topicos_CB.xlsx\")\n",
    "salida_autores = pd.read_excel(\"data/salida_autores.xlsx\")\n",
    "\n",
    "# Convertir los valores de nodos a str para que el código funcione sin modificaciones\n",
    "data_papers = {key: [str(node) for node in value] for key, value in data_papers.items()}"
   ]
  },
  {
   "cell_type": "code",
   "execution_count": 11,
   "metadata": {},
   "outputs": [],
   "source": [
    "# La enumeracion del cluster va en orden descendente de acuerdo al \n",
    "# orden de los grandes productores\n",
    "\n",
    "def enumerar_clusters(data_cluster):\n",
    "    \"\"\"\n",
    "    Enumerar los clusters a partir de la data_cluster.\n",
    "    \n",
    "    Parameters:\n",
    "    data_cluster (list): Lista de clusters donde cada elemento es un string con nodos separados por '_'.\n",
    "    \n",
    "    Returns:\n",
    "    dict: Diccionario con clusters enumerados.\n",
    "    \"\"\"\n",
    "    enumerar_cluster = {}\n",
    "    for i, cluster in enumerate(data_cluster, start=1):\n",
    "        enumerar_cluster[i] = cluster.split('_')\n",
    "    return enumerar_cluster\n",
    "\n",
    "def enumerar_nodos(enumerar_cluster):\n",
    "    \"\"\"\n",
    "    Crear un diccionario que asocia cada nodo a su cluster correspondiente.\n",
    "    \n",
    "    Parameters:\n",
    "    enumerar_cluster (dict): Diccionario de clusters enumerados.\n",
    "    \n",
    "    Returns:\n",
    "    dict: Diccionario que mapea cada nodo a su cluster.\n",
    "    \"\"\"\n",
    "    enumerar_nodo = {}\n",
    "    for cluster_id, nodos in enumerar_cluster.items():\n",
    "        for nodo in nodos:\n",
    "            enumerar_nodo[nodo] = cluster_id\n",
    "    return enumerar_nodo\n",
    "\n",
    "Enumerar_cluster = enumerar_clusters(data_cluster)\n",
    "\n",
    "enumerar_nodo = enumerar_nodos(Enumerar_cluster)\n"
   ]
  },
  {
   "cell_type": "code",
   "execution_count": 12,
   "metadata": {},
   "outputs": [
    {
     "name": "stdout",
     "output_type": "stream",
     "text": [
      "Nodos: 92\n",
      "Aristas: 380\n"
     ]
    }
   ],
   "source": [
    "def crear_grafo_comunidades(enumerar_cluster, data_autores, num_comunidades=16, min_articulos=5):\n",
    "    \"\"\"\n",
    "    Crear un grafo de comunidades basado en coautorías.\n",
    "\n",
    "    Parameters:\n",
    "    enumerar_cluster (dict): Diccionario de clusters enumerados.\n",
    "    data_autores (dict): Diccionario con datos de autores.\n",
    "    num_comunidades (int): Número de comunidades a incluir.\n",
    "    min_articulos (int): Número mínimo de artículos para incluir un nodo.\n",
    "\n",
    "    Returns:\n",
    "    G (networkx.Graph): Grafo de comunidades.\n",
    "    node_color (dict): Diccionario que mapea cada nodo a su color.\n",
    "    \"\"\"\n",
    "    colores = [\n",
    "        'red', 'blue', 'green', 'yellow', 'orange', 'purple', 'pink', 'brown',\n",
    "        'black', 'white', 'gray', 'cyan', 'magenta', 'lime', 'maroon', 'navy'\n",
    "    ]\n",
    "\n",
    "    if num_comunidades > len(colores):\n",
    "        raise ValueError(\"El número de comunidades supera el número de colores disponibles.\")\n",
    "\n",
    "    G = nx.Graph()\n",
    "    node_color = {}\n",
    "\n",
    "    for i in range(1, num_comunidades + 1):\n",
    "        for node in enumerar_cluster.get(i, []):\n",
    "            if data_autores[node]['n_articulos'] >= min_articulos:\n",
    "                G.add_node(node)\n",
    "                node_color[node] = colores[i - 1]\n",
    "\n",
    "    for node in G.nodes():\n",
    "        for coautor in data_autores[node].get(\"coautores\", []):\n",
    "            if coautor in G:\n",
    "                G.add_edge(node, coautor)\n",
    "\n",
    "    return G, node_color\n",
    "\n",
    "n_comn = 16\n",
    "\n",
    "G, node_color = crear_grafo_comunidades(Enumerar_cluster, data_autores, num_comunidades=n_comn)\n",
    "\n",
    "print(f'Nodos: {G.number_of_nodes()}')\n",
    "print(f'Aristas: {G.number_of_edges()}')"
   ]
  },
  {
   "cell_type": "code",
   "execution_count": 13,
   "metadata": {},
   "outputs": [
    {
     "name": "stdout",
     "output_type": "stream",
     "text": [
      "Nodos en la red: 92\n",
      "Aristas en la red: 380\n"
     ]
    }
   ],
   "source": [
    "def crear_red_comunidades(G, data_autores, height=\"750px\", width=\"100%\", bgcolor=\"#222222\", font_color=\"white\"):\n",
    "    \"\"\"\n",
    "    Crear una red de comunidades utilizando pyvis y datos de coautorías.\n",
    "\n",
    "    Parameters:\n",
    "    G (networkx.Graph): Grafo de comunidades.\n",
    "    data_autores (dict): Diccionario con datos de autores.\n",
    "    height (str): Altura del gráfico.\n",
    "    width (str): Ancho del gráfico.\n",
    "    bgcolor (str): Color de fondo del gráfico.\n",
    "    font_color (str): Color de fuente del gráfico.\n",
    "\n",
    "    Returns:\n",
    "    Network: Objeto de red de pyvis.\n",
    "    \"\"\"\n",
    "    net = Network(height=height, width=width, bgcolor=bgcolor, font_color=font_color, notebook=True, cdn_resources='in_line')\n",
    "\n",
    "    # Añadir nodos y aristas a la red\n",
    "    for edge in G.edges():\n",
    "        src, dst = map(str, edge)\n",
    "        n_art = data_autores[edge[0]]['coautores'].get(edge[1], 0)\n",
    "\n",
    "        net.add_node(src, src, title=src)\n",
    "        net.add_node(dst, dst, title=dst)\n",
    "        if n_art != 0:\n",
    "            net.add_edge(src, dst, value=n_art)\n",
    "\n",
    "    return net\n",
    "\n",
    "# Crear la red de comunidades\n",
    "comn_20_net = crear_red_comunidades(G, data_autores)\n",
    "\n",
    "# Mostrar información de la red (opcional)\n",
    "print(f'Nodos en la red: {len(comn_20_net.nodes)}')\n",
    "print(f'Aristas en la red: {len(comn_20_net.edges)}')"
   ]
  },
  {
   "cell_type": "code",
   "execution_count": 14,
   "metadata": {},
   "outputs": [],
   "source": [
    "def actualizar_nodos_red(net, data_autores, node_color):\n",
    "    \"\"\"\n",
    "    Actualizar los nodos de la red con información adicional.\n",
    "\n",
    "    Parameters:\n",
    "    net (Network): Objeto de red de pyvis.\n",
    "    data_autores (dict): Diccionario con datos de autores.\n",
    "    node_color (dict): Diccionario que mapea cada nodo a su color.\n",
    "    \"\"\"\n",
    "    for node in net.nodes:\n",
    "        node_id = node[\"id\"]\n",
    "        n_art = data_autores[node_id][\"n_articulos\"]\n",
    "\n",
    "        node[\"label\"] = data_autores[node_id]['nombre_autor']\n",
    "        node[\"value\"] = 2 * n_art\n",
    "        node[\"font\"] = {'size': 2 * n_art, 'color': \"white\"}\n",
    "        node[\"title\"] = f\"Número de artículos: {n_art}\"\n",
    "        node[\"color\"] = node_color[node_id]\n",
    "\n",
    "def mostrar_red_con_botones(net, filter_=[\"physics\"]):\n",
    "    \"\"\"\n",
    "    Mostrar la red con botones de filtro.\n",
    "\n",
    "    Parameters:\n",
    "    net (Network): Objeto de red de pyvis.\n",
    "    filter_ (list): Lista de filtros para los botones de pyvis.\n",
    "    \"\"\"\n",
    "    net.show_buttons(filter_=filter_)\n",
    "\n",
    "# Actualizar nodos de la red con información adicional\n",
    "actualizar_nodos_red(comn_20_net, data_autores, node_color)\n",
    "\n",
    "# # Mostrar la red con botones de filtro\n",
    "# mostrar_red_con_botones(comn_20_net)"
   ]
  },
  {
   "cell_type": "code",
   "execution_count": 15,
   "metadata": {},
   "outputs": [
    {
     "name": "stdout",
     "output_type": "stream",
     "text": [
      "Grafo20Comunidad.html\n"
     ]
    },
    {
     "data": {
      "text/html": [
       "\n",
       "        <iframe\n",
       "            width=\"100%\"\n",
       "            height=\"750px\"\n",
       "            src=\"Grafo20Comunidad.html\"\n",
       "            frameborder=\"0\"\n",
       "            allowfullscreen\n",
       "            \n",
       "        ></iframe>\n",
       "        "
      ],
      "text/plain": [
       "<IPython.lib.display.IFrame at 0x22d0a7cdf40>"
      ]
     },
     "execution_count": 15,
     "metadata": {},
     "output_type": "execute_result"
    }
   ],
   "source": [
    "comn_20_net.show('Grafo20Comunidad.html') "
   ]
  }
 ],
 "metadata": {
  "kernelspec": {
   "display_name": "py39_ia",
   "language": "python",
   "name": "python3"
  },
  "language_info": {
   "codemirror_mode": {
    "name": "ipython",
    "version": 3
   },
   "file_extension": ".py",
   "mimetype": "text/x-python",
   "name": "python",
   "nbconvert_exporter": "python",
   "pygments_lexer": "ipython3",
   "version": "3.9.18"
  }
 },
 "nbformat": 4,
 "nbformat_minor": 2
}
