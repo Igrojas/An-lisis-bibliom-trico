{
 "cells": [
  {
   "cell_type": "code",
   "execution_count": 145,
   "metadata": {},
   "outputs": [],
   "source": [
    "import pandas as pd\n",
    "import json\n",
    "import networkx as nx\n",
    "\n",
    "f= open('data/grafo_autores.json') \n",
    "data_autores = json.load(f)\n",
    "f.close()\n",
    "\n",
    "f= open('data/lista_papers.json')\n",
    "data_papers = json.load(f)\n",
    "f.close()"
   ]
  },
  {
   "cell_type": "code",
   "execution_count": 146,
   "metadata": {},
   "outputs": [],
   "source": [
    "from pyvis.network import Network\n",
    "\n",
    "autor_net = Network(height=\"750px\", width=\"100%\", bgcolor=\"#222222\", font_color=\"white\", notebook=True, cdn_resources='in_line')\n",
    "\n",
    "inicio = []\n",
    "final = []\n",
    "peso = []\n",
    "\n",
    "min_articulos = 10\n",
    "for autor , autor_data in data_autores.items():\n",
    "    if data_autores[autor]['n_articulos'] > min_articulos:\n",
    "        for coautores, n in autor_data['coautores'].items():\n",
    "            if data_autores[coautores]['n_articulos'] > min_articulos:\n",
    "                # print(f'Autor: {autor}, coautor con: {coautores} en {n} articulos')\n",
    "                inicio.append(autor)\n",
    "                final.append(coautores)\n",
    "                peso.append(n)\n",
    "\n",
    "edge_data = zip(inicio, final, peso)\n",
    "\n",
    "for e in edge_data:\n",
    "                src = e[0]\n",
    "                dst = e[1]\n",
    "                w = e[2]\n",
    "\n",
    "                autor_net.add_node(src, title=src)\n",
    "                autor_net.add_node(dst, title=dst)\n",
    "                autor_net.add_edge(src, dst, value=w)"
   ]
  },
  {
   "cell_type": "code",
   "execution_count": 147,
   "metadata": {},
   "outputs": [],
   "source": [
    "G = nx.Graph()\n",
    "min_articulos = 1\n",
    "for autor , autor_data in data_autores.items():\n",
    "    if data_autores[autor]['n_articulos'] >= min_articulos:\n",
    "        G.add_node(autor)\n",
    "        for coautores, n in autor_data['coautores'].items():\n",
    "            if data_autores[coautores]['n_articulos'] >= min_articulos:\n",
    "                G.add_edge(autor, coautores)"
   ]
  },
  {
   "cell_type": "code",
   "execution_count": 148,
   "metadata": {},
   "outputs": [],
   "source": [
    "# PageRank = nx.pagerank(G)\n",
    "# Betweenness = nx.betweenness_centrality(G)\n",
    "# Closeness = nx.closeness_centrality(G)\n",
    "\n",
    "# rankings = pd.concat([pd.DataFrame([PageRank]).T,pd.DataFrame([Betweenness]).T, pd.DataFrame([Closeness]).T],axis = 1)\n",
    "# rankings.columns = ['PageRank','Betweenness','Closeness']\n",
    "# rankings.sort_values('PageRank', ascending = False).head(20).round(4)\n",
    "# rankings.to_excel('data/centralidades.xlsx', index=True)"
   ]
  },
  {
   "cell_type": "code",
   "execution_count": 149,
   "metadata": {},
   "outputs": [
    {
     "name": "stdout",
     "output_type": "stream",
     "text": [
      "       ins    values                              nombre    color\n",
      "125   3970  0.002354                     Ibanez, Agustin  #fcfea4\n",
      "741    133  0.001600                    Alfonso Urzúa M.  #ef6d21\n",
      "124     38  0.001439                    Adolfo M. Garcia  #de5337\n",
      "1663  1231  0.001405                    Felipe E. García  #db4f3a\n",
      "310   2750  0.001369                      Mariane Krause  #d64a3f\n",
      "...    ...       ...                                 ...      ...\n",
      "3327   490  0.000016            Boris Valdenegro Egozcue  #000003\n",
      "9038  8382  0.000016         Aristegui, Daniela González  #000003\n",
      "7811  5192  0.000016                   Vargas, Nicole B.  #000003\n",
      "9032  8376  0.000016  Astorga, Paulina Soledad Santander  #000003\n",
      "9196  8707  0.000016            Cabezas Corcione, Andres  #000003\n",
      "\n",
      "[9393 rows x 4 columns]\n"
     ]
    }
   ],
   "source": [
    "import pandas as pd\n",
    "import matplotlib.pyplot as plt\n",
    "from matplotlib.colors import Normalize\n",
    "from matplotlib.cm import ScalarMappable\n",
    "\n",
    "salida_authorrank = pd.read_excel(\"data/salida_AuthorRank.xlsx\",index_col= 0)\n",
    "salida_authorrank = salida_authorrank.sort_values(by='values', ascending=False)\n",
    "\n",
    "norm = Normalize(vmin=salida_authorrank['values'].min(), vmax=salida_authorrank['values'].max())\n",
    "mapper = ScalarMappable(norm=norm, cmap='inferno')\n",
    "\n",
    "salida_authorrank['color'] = salida_authorrank['values'].apply(lambda x: mapper.to_rgba(x, bytes=True))\n",
    "salida_authorrank['color'] = salida_authorrank['color'].apply(lambda c: f'#{c[0]:02x}{c[1]:02x}{c[2]:02x}')\n",
    "\n",
    "print(salida_authorrank[['ins', 'values', 'nombre', 'color']])"
   ]
  },
  {
   "cell_type": "code",
   "execution_count": 150,
   "metadata": {},
   "outputs": [
    {
     "name": "stdout",
     "output_type": "stream",
     "text": [
      "       ins    values                              nombre    color\n",
      "125   3970  0.002354                     Ibanez, Agustin  #fcfea4\n",
      "741    133  0.001600                    Alfonso Urzúa M.  #ef6d21\n",
      "124     38  0.001439                    Adolfo M. Garcia  #de5337\n",
      "1663  1231  0.001405                    Felipe E. García  #db4f3a\n",
      "310   2750  0.001369                      Mariane Krause  #d64a3f\n",
      "...    ...       ...                                 ...      ...\n",
      "3327   490  0.000016            Boris Valdenegro Egozcue  #000003\n",
      "9038  8382  0.000016         Aristegui, Daniela González  #000003\n",
      "7811  5192  0.000016                   Vargas, Nicole B.  #000003\n",
      "9032  8376  0.000016  Astorga, Paulina Soledad Santander  #000003\n",
      "9196  8707  0.000016            Cabezas Corcione, Andres  #000003\n",
      "\n",
      "[9393 rows x 4 columns]\n"
     ]
    }
   ],
   "source": [
    "import pandas as pd\n",
    "import matplotlib.pyplot as plt\n",
    "from matplotlib.colors import Normalize\n",
    "from matplotlib.cm import ScalarMappable\n",
    "\n",
    "salida_authorrank = pd.read_excel(\"data/salida_AuthorRank.xlsx\",index_col= 0)\n",
    "salida_authorrank = salida_authorrank.sort_values(by='values', ascending=False)\n",
    "\n",
    "norm = Normalize(vmin=salida_authorrank['values'].min(), vmax=salida_authorrank['values'].max())\n",
    "mapper = ScalarMappable(norm=norm, cmap='inferno')\n",
    "\n",
    "salida_authorrank['color'] = salida_authorrank['values'].apply(lambda x: mapper.to_rgba(x, bytes=True))\n",
    "salida_authorrank['color'] = salida_authorrank['color'].apply(lambda c: f'#{c[0]:02x}{c[1]:02x}{c[2]:02x}')\n",
    "\n",
    "print(salida_authorrank[['ins', 'values', 'nombre', 'color']])"
   ]
  },
  {
   "cell_type": "code",
   "execution_count": 151,
   "metadata": {},
   "outputs": [
    {
     "name": "stdout",
     "output_type": "stream",
     "text": [
      "GrafoCoautoria.html\n"
     ]
    },
    {
     "data": {
      "text/html": [
       "\n",
       "        <iframe\n",
       "            width=\"100%\"\n",
       "            height=\"750px\"\n",
       "            src=\"GrafoCoautoria.html\"\n",
       "            frameborder=\"0\"\n",
       "            allowfullscreen\n",
       "            \n",
       "        ></iframe>\n",
       "        "
      ],
      "text/plain": [
       "<IPython.lib.display.IFrame at 0x1e120b62130>"
      ]
     },
     "execution_count": 151,
     "metadata": {},
     "output_type": "execute_result"
    }
   ],
   "source": [
    "import matplotlib.pyplot as plt\n",
    "import matplotlib.cm as cm\n",
    "import numpy as np\n",
    "\n",
    "for node in autor_net.nodes:\n",
    "\n",
    "    n_art_autor = data_autores[node[\"id\"]]['n_articulos']\n",
    "\n",
    "    node[\"label\"] = data_autores[node[\"id\"]][\"nombre_autor\"]\n",
    "    node[\"value\"] = 100* n_art_autor\n",
    "    node[\"title\"] = data_autores[node[\"id\"]][\"nombre_autor\"] + \", Número artículos: \" + str(n_art_autor)\n",
    "    node[\"color\"] = salida_authorrank.loc[salida_authorrank['nombre'] == node[\"label\"], 'color'].values[0]\n",
    "    node[\"font\"] = {\"size\":  n_art_autor, \"color\": \"white\"}\n",
    "\n",
    "\n",
    "autor_net.show(\"GrafoCoautoria.html\")"
   ]
  },
  {
   "cell_type": "code",
   "execution_count": 152,
   "metadata": {},
   "outputs": [],
   "source": [
    "# PageRank = nx.pagerank(G)\n",
    "# Betweenness = nx.betweenness_centrality(G)\n",
    "# Closeness = nx.closeness_centrality(G)\n",
    "\n",
    "# rankings = pd.concat([pd.DataFrame([PageRank]).T,pd.DataFrame([Betweenness]).T, pd.DataFrame([Closeness]).T],axis = 1)\n",
    "# rankings.columns = ['PageRank','Betweenness','Closeness']\n",
    "# rankings.sort_values('PageRank', ascending = False).head(20).round(4)\n",
    "# rankings.to_excel('data/centralidades.xlsx', index=True)"
   ]
  },
  {
   "cell_type": "code",
   "execution_count": 153,
   "metadata": {},
   "outputs": [],
   "source": [
    "def DFCentralidades(centralidad):\n",
    "    rankings = pd.read_excel(\"data/centralidades.xlsx\",index_col= 0)\n",
    "    rankings.reset_index(inplace=True)\n",
    "    rankings.rename(columns={'index': 'ins'}, inplace=True)\n",
    "    rankings['ins'] = rankings['ins'].astype(str)\n",
    "    rankings['nombre'] = rankings['ins'].apply(lambda x: data_autores[x][\"nombre_autor\"] if x in data_autores else \"Unknown\")\n",
    "    # rankings.sort_values(centralidad, ascending = False).head(20).round(4)\n",
    "\n",
    "    norm = Normalize(vmin=rankings[centralidad].min(), vmax=rankings[centralidad].max())\n",
    "    mapper = ScalarMappable(norm=norm, cmap='inferno')\n",
    "\n",
    "    rankings['color_pr'] = rankings[centralidad].apply(lambda x: mapper.to_rgba(x, bytes=True))\n",
    "    rankings['color_pr'] = rankings['color_pr'].apply(lambda c: f'#{c[0]:02x}{c[1]:02x}{c[2]:02x}')\n",
    "\n",
    "    print(rankings[['ins', centralidad, 'nombre', 'color_pr']].sort_values(centralidad, ascending = False).head(20).round(4))\n",
    "    return rankings"
   ]
  },
  {
   "cell_type": "code",
   "execution_count": 154,
   "metadata": {},
   "outputs": [],
   "source": [
    "centralidades = [\"PageRank\", \"Betweenness\", \"Closeness\"]"
   ]
  },
  {
   "cell_type": "code",
   "execution_count": 155,
   "metadata": {},
   "outputs": [
    {
     "name": "stdout",
     "output_type": "stream",
     "text": [
      "       ins  PageRank                     nombre color_pr\n",
      "125   3970    0.0015            Ibanez, Agustin  #fcfea4\n",
      "737    133    0.0012           Alfonso Urzúa M.  #fbb014\n",
      "310   2750    0.0010             Mariane Krause  #ed6825\n",
      "1663  1231    0.0009           Felipe E. García  #e55b30\n",
      "124     38    0.0009           Adolfo M. Garcia  #db4f3a\n",
      "424   3437    0.0009           Roberto Gonzalez  #d94d3d\n",
      "969     90    0.0008    Alejandra Caqueo-Urízar  #cc4148\n",
      "1127  4216    0.0008         Farkas, Chamarrita  #c53d4d\n",
      "940   1413    0.0008              Gonzalo Salas  #c53d4d\n",
      "1597  2752    0.0008    Marianela Denegri-Coria  #c13a50\n",
      "1047  2954    0.0008     Monica Guzmán-Gonzalez  #bf3951\n",
      "591    923    0.0007          Darío Páez-Rovira  #b43358\n",
      "1683  4130    0.0007     Stanghellini, Giovanni  #a72d5f\n",
      "3662  2734    0.0007  Maria Veronica Santelices  #a72d5f\n",
      "104   4819    0.0007           Wlodarczyk, Anna  #a32b61\n",
      "1119   772    0.0006   Claudio Bustos Navarrete  #9e2963\n",
      "133   2279    0.0006               Lucas Sedeño  #982765\n",
      "1718  1672    0.0006   Jaime Barrientos-Delgado  #8d2369\n",
      "4107   850    0.0006           Cristobal Guerra  #892269\n",
      "351   3963    0.0006              Oriol, Xavier  #892269\n",
      "GrafoCoautoria_pr.html\n"
     ]
    },
    {
     "data": {
      "text/html": [
       "\n",
       "        <iframe\n",
       "            width=\"100%\"\n",
       "            height=\"750px\"\n",
       "            src=\"GrafoCoautoria_pr.html\"\n",
       "            frameborder=\"0\"\n",
       "            allowfullscreen\n",
       "            \n",
       "        ></iframe>\n",
       "        "
      ],
      "text/plain": [
       "<IPython.lib.display.IFrame at 0x1e12094c880>"
      ]
     },
     "execution_count": 155,
     "metadata": {},
     "output_type": "execute_result"
    }
   ],
   "source": [
    "rankings = DFCentralidades(centralidades[0])\n",
    "\n",
    "for node in autor_net.nodes:\n",
    "\n",
    "    n_art_autor = data_autores[node[\"id\"]]['n_articulos']\n",
    "\n",
    "    node[\"label\"] = data_autores[node[\"id\"]][\"nombre_autor\"]\n",
    "    node[\"value\"] = 100* n_art_autor\n",
    "    node[\"title\"] = data_autores[node[\"id\"]][\"nombre_autor\"] + \", Número artículos: \" + str(n_art_autor)\n",
    "    node[\"color\"] = rankings.loc[rankings['nombre'] == node[\"label\"], 'color_pr'].values[0]\n",
    "    node[\"font\"] = {\"size\":  n_art_autor, \"color\": \"white\"}\n",
    "\n",
    "autor_net.show(\"GrafoCoautoria_pr.html\")"
   ]
  },
  {
   "cell_type": "code",
   "execution_count": 156,
   "metadata": {},
   "outputs": [
    {
     "name": "stdout",
     "output_type": "stream",
     "text": [
      "       ins  Betweenness                     nombre color_pr\n",
      "351   3963       0.0436              Oriol, Xavier  #fcfea4\n",
      "737    133       0.0433           Alfonso Urzúa M.  #fafda0\n",
      "310   2750       0.0379             Mariane Krause  #f9c72f\n",
      "983    770       0.0323        Claudio Araya-Véliz  #f8880c\n",
      "424   3437       0.0301           Roberto Gonzalez  #f1721d\n",
      "125   3970       0.0271            Ibanez, Agustin  #e35832\n",
      "549   4427       0.0259              Tadinac, Meri  #da4e3b\n",
      "3331  4535       0.0254         García-Hermoso, A.  #d64a3f\n",
      "104   4819       0.0248           Wlodarczyk, Anna  #d24742\n",
      "356     55       0.0232           Agustin Espinosa  #c73e4c\n",
      "1814  3839       0.0229  Vicente Martinez-Vizcaino  #c43c4e\n",
      "309   1638       0.0219            J. Carola Pérez  #bb3754\n",
      "1834  5493       0.0202              Vieta, Eduard  #ac2f5c\n",
      "1667   154       0.0192      Alvaro Ignacio Langer  #a32b61\n",
      "1312  6670       0.0191           Ceric, Francisco  #a32b61\n",
      "1064  5545       0.0183     Vera-Villarroel, Pablo  #9b2864\n",
      "565    556       0.0182    Carlos Contreras Ibáñez  #9b2864\n",
      "968    761       0.0178    Claudia Paz Perez-Salas  #962666\n",
      "1236   950       0.0176              David Sirlopu  #952666\n",
      "1597  2752       0.0163    Marianela Denegri-Coria  #88216a\n",
      "GrafoCoautoria_btw.html\n"
     ]
    },
    {
     "data": {
      "text/html": [
       "\n",
       "        <iframe\n",
       "            width=\"100%\"\n",
       "            height=\"750px\"\n",
       "            src=\"GrafoCoautoria_btw.html\"\n",
       "            frameborder=\"0\"\n",
       "            allowfullscreen\n",
       "            \n",
       "        ></iframe>\n",
       "        "
      ],
      "text/plain": [
       "<IPython.lib.display.IFrame at 0x1e1259bcdc0>"
      ]
     },
     "execution_count": 156,
     "metadata": {},
     "output_type": "execute_result"
    }
   ],
   "source": [
    "rankings = DFCentralidades(centralidades[1])\n",
    "\n",
    "for node in autor_net.nodes:\n",
    "\n",
    "    n_art_autor = data_autores[node[\"id\"]]['n_articulos']\n",
    "\n",
    "    node[\"label\"] = data_autores[node[\"id\"]][\"nombre_autor\"]\n",
    "    node[\"value\"] = 100* n_art_autor\n",
    "    node[\"title\"] = data_autores[node[\"id\"]][\"nombre_autor\"] + \", Número artículos: \" + str(n_art_autor)\n",
    "    node[\"color\"] = rankings.loc[rankings['nombre'] == node[\"label\"], 'color_pr'].values[0]\n",
    "    node[\"font\"] = {\"size\":  n_art_autor, \"color\": \"white\"}\n",
    "\n",
    "autor_net.show(\"GrafoCoautoria_btw.html\")"
   ]
  },
  {
   "cell_type": "code",
   "execution_count": 157,
   "metadata": {},
   "outputs": [
    {
     "name": "stdout",
     "output_type": "stream",
     "text": [
      "       ins  Closeness                       nombre color_pr\n",
      "104   4819     0.1920             Wlodarczyk, Anna  #fcfea4\n",
      "356     55     0.1902             Agustin Espinosa  #f9fc9d\n",
      "737    133     0.1902             Alfonso Urzúa M.  #f9fc9d\n",
      "424   3437     0.1893             Roberto Gonzalez  #f7fb99\n",
      "1236   950     0.1858                David Sirlopu  #f2f485\n",
      "448   5735     0.1842               Basabe, Nekane  #f1f27d\n",
      "441   3902     0.1840           Wilson López López  #f1f27d\n",
      "358   3720     0.1819            Taciano L Milfont  #f1ed70\n",
      "1064  5545     0.1814       Vera-Villarroel, Pablo  #f1eb6c\n",
      "1083  7425     0.1808              Adams, Byron G.  #f1eb6c\n",
      "436   3493     0.1806             Rosa Maria Cueto  #f1e968\n",
      "439   2361     0.1799  María de los Ángeles Bilbao  #f1e864\n",
      "430   1925     0.1798              José J. Pizarro  #f1e864\n",
      "438   3638     0.1798              Silvia da Costa  #f1e864\n",
      "1352  8504     0.1794               IJzerman, Hans  #f1e864\n",
      "461   7724     0.1778         Cantarero, Katarzyna  #f2e45d\n",
      "521   7906     0.1777              Kervyn, Nicolas  #f3e259\n",
      "531   7917     0.1777             Diego Vega, Luis  #f3e259\n",
      "591    923     0.1774            Darío Páez-Rovira  #f3e259\n",
      "1312  6670     0.1770             Ceric, Francisco  #f3e056\n",
      "GrafoCoautoria_close.html\n"
     ]
    },
    {
     "data": {
      "text/html": [
       "\n",
       "        <iframe\n",
       "            width=\"100%\"\n",
       "            height=\"750px\"\n",
       "            src=\"GrafoCoautoria_close.html\"\n",
       "            frameborder=\"0\"\n",
       "            allowfullscreen\n",
       "            \n",
       "        ></iframe>\n",
       "        "
      ],
      "text/plain": [
       "<IPython.lib.display.IFrame at 0x1e11d3165b0>"
      ]
     },
     "execution_count": 157,
     "metadata": {},
     "output_type": "execute_result"
    }
   ],
   "source": [
    "rankings = DFCentralidades(centralidades[2])\n",
    "\n",
    "for node in autor_net.nodes:\n",
    "\n",
    "    n_art_autor = data_autores[node[\"id\"]]['n_articulos']\n",
    "\n",
    "    node[\"label\"] = data_autores[node[\"id\"]][\"nombre_autor\"]\n",
    "    node[\"value\"] = 100* n_art_autor\n",
    "    node[\"title\"] = data_autores[node[\"id\"]][\"nombre_autor\"] + \", Número artículos: \" + str(n_art_autor)\n",
    "    node[\"color\"] = rankings.loc[rankings['nombre'] == node[\"label\"], 'color_pr'].values[0]\n",
    "    node[\"font\"] = {\"size\":  n_art_autor, \"color\": \"white\"}\n",
    "\n",
    "autor_net.show(\"GrafoCoautoria_close.html\")"
   ]
  }
 ],
 "metadata": {
  "kernelspec": {
   "display_name": "py39_ia",
   "language": "python",
   "name": "python3"
  },
  "language_info": {
   "codemirror_mode": {
    "name": "ipython",
    "version": 3
   },
   "file_extension": ".py",
   "mimetype": "text/x-python",
   "name": "python",
   "nbconvert_exporter": "python",
   "pygments_lexer": "ipython3",
   "version": "3.9.18"
  }
 },
 "nbformat": 4,
 "nbformat_minor": 2
}
