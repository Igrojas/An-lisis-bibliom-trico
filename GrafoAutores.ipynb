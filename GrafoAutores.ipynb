{
 "cells": [
  {
   "cell_type": "code",
   "execution_count": 1,
   "metadata": {},
   "outputs": [],
   "source": [
    "import pandas as pd\n",
    "import json\n",
    "\n",
    "f= open('data/grafo_autores.json') \n",
    "data_autores = json.load(f)\n",
    "f.close()\n",
    "\n",
    "f= open('data/lista_papers.json')\n",
    "data_papers = json.load(f)\n",
    "f.close()"
   ]
  },
  {
   "cell_type": "code",
   "execution_count": 2,
   "metadata": {},
   "outputs": [],
   "source": [
    "from pyvis.network import Network\n",
    "\n",
    "autor_net = Network(height=\"750px\", width=\"100%\", bgcolor=\"#222222\", font_color=\"white\", notebook=True, cdn_resources='in_line')\n",
    "\n",
    "inicio = []\n",
    "final = []\n",
    "peso = []\n",
    "\n",
    "min_articulos = 10\n",
    "for autor , autor_data in data_autores.items():\n",
    "    if data_autores[autor]['n_articulos'] > min_articulos:\n",
    "        for coautores, n in autor_data['coautores'].items():\n",
    "            if data_autores[coautores]['n_articulos'] > min_articulos:\n",
    "                # print(f'Autor: {autor}, coautor con: {coautores} en {n} articulos')\n",
    "                inicio.append(autor)\n",
    "                final.append(coautores)\n",
    "                peso.append(n)\n",
    "\n",
    "edge_data = zip(inicio, final, peso)\n",
    "\n",
    "for e in edge_data:\n",
    "                src = e[0]\n",
    "                dst = e[1]\n",
    "                w = e[2]\n",
    "\n",
    "                autor_net.add_node(src, title=src)\n",
    "                autor_net.add_node(dst, title=dst)\n",
    "                autor_net.add_edge(src, dst, value=w)"
   ]
  },
  {
   "cell_type": "code",
   "execution_count": 5,
   "metadata": {},
   "outputs": [
    {
     "name": "stdout",
     "output_type": "stream",
     "text": [
      "       ins    values                              nombre    color\n",
      "125   3970  0.002354                     Ibanez, Agustin  #67000c\n",
      "741    133  0.001600                    Alfonso Urzúa M.  #df2c25\n",
      "124     38  0.001439                    Adolfo M. Garcia  #f04130\n",
      "1663  1231  0.001405                    Felipe E. García  #f14532\n",
      "310   2750  0.001369                      Mariane Krause  #f34b36\n",
      "...    ...       ...                                 ...      ...\n",
      "3327   490  0.000016            Boris Valdenegro Egozcue  #fff5f0\n",
      "9038  8382  0.000016         Aristegui, Daniela González  #fff5f0\n",
      "7811  5192  0.000016                   Vargas, Nicole B.  #fff5f0\n",
      "9032  8376  0.000016  Astorga, Paulina Soledad Santander  #fff5f0\n",
      "9196  8707  0.000016            Cabezas Corcione, Andres  #fff5f0\n",
      "\n",
      "[9393 rows x 4 columns]\n"
     ]
    }
   ],
   "source": [
    "import pandas as pd\n",
    "import matplotlib.pyplot as plt\n",
    "from matplotlib.colors import Normalize\n",
    "from matplotlib.cm import ScalarMappable\n",
    "\n",
    "salida_authorrank = pd.read_excel(\"data/salida_AuthorRank.xlsx\",index_col= 0)\n",
    "salida_authorrank = salida_authorrank.sort_values(by='values', ascending=False)\n",
    "\n",
    "norm = Normalize(vmin=salida_authorrank['values'].min(), vmax=salida_authorrank['values'].max())\n",
    "mapper = ScalarMappable(norm=norm, cmap='Reds')\n",
    "\n",
    "salida_authorrank['color'] = salida_authorrank['values'].apply(lambda x: mapper.to_rgba(x, bytes=True))\n",
    "salida_authorrank['color'] = salida_authorrank['color'].apply(lambda c: f'#{c[0]:02x}{c[1]:02x}{c[2]:02x}')\n",
    "\n",
    "print(salida_authorrank[['ins', 'values', 'nombre', 'color']])"
   ]
  },
  {
   "cell_type": "code",
   "execution_count": 16,
   "metadata": {},
   "outputs": [
    {
     "name": "stdout",
     "output_type": "stream",
     "text": [
      "GrafoCoautoria.html\n"
     ]
    },
    {
     "data": {
      "text/html": [
       "\n",
       "        <iframe\n",
       "            width=\"100%\"\n",
       "            height=\"750px\"\n",
       "            src=\"GrafoCoautoria.html\"\n",
       "            frameborder=\"0\"\n",
       "            allowfullscreen\n",
       "            \n",
       "        ></iframe>\n",
       "        "
      ],
      "text/plain": [
       "<IPython.lib.display.IFrame at 0x19b3ab0aeb0>"
      ]
     },
     "execution_count": 16,
     "metadata": {},
     "output_type": "execute_result"
    }
   ],
   "source": [
    "import matplotlib.pyplot as plt\n",
    "import matplotlib.cm as cm\n",
    "import numpy as np\n",
    "\n",
    "for node in autor_net.nodes:\n",
    "\n",
    "    n_art_autor = data_autores[node[\"id\"]]['n_articulos']\n",
    "\n",
    "    node[\"label\"] = data_autores[node[\"id\"]][\"nombre_autor\"]\n",
    "    node[\"value\"] = 100* n_art_autor\n",
    "    node[\"title\"] = data_autores[node[\"id\"]][\"nombre_autor\"] + \", Número artículos: \" + str(data_autores[node[\"id\"]][\"n_articulos\"])\n",
    "    node[\"color\"] = salida_authorrank.loc[salida_authorrank['nombre'] == node[\"label\"], 'color'].values[0]\n",
    "    node[\"font\"] = {\"size\":  n_art_autor, \"color\": \"white\"}\n",
    "\n",
    "autor_net.show(\"GrafoCoautoria.html\")"
   ]
  }
 ],
 "metadata": {
  "kernelspec": {
   "display_name": "py39_ia",
   "language": "python",
   "name": "python3"
  },
  "language_info": {
   "codemirror_mode": {
    "name": "ipython",
    "version": 3
   },
   "file_extension": ".py",
   "mimetype": "text/x-python",
   "name": "python",
   "nbconvert_exporter": "python",
   "pygments_lexer": "ipython3",
   "version": "3.9.18"
  }
 },
 "nbformat": 4,
 "nbformat_minor": 2
}
