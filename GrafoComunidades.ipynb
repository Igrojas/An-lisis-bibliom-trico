{
 "cells": [
  {
   "cell_type": "code",
   "execution_count": 1,
   "metadata": {},
   "outputs": [],
   "source": [
    "import pickle\n",
    "import networkx as nx\n",
    "import json\n",
    "import pandas as pd\n",
    "from pyvis.network import Network\n",
    "\n",
    "f= open('data/grafo_autores.json') \n",
    "data_autores = json.load(f)\n",
    "f.close()\n",
    "\n",
    "f= open('data/lista_papers.json')\n",
    "data_papers = json.load(f)\n",
    "f.close()\n",
    "\n",
    "f= open('data/grafo_instituciones.json') \n",
    "data_inst = json.load(f)\n",
    "f.close()\n",
    "\n",
    "f= open('data/lista_papers_instituciones.json') \n",
    "data_paper_inst = json.load(f)\n",
    "f.close()\n",
    "\n",
    "with open(\"data/cluster_authorrank_2000.pkl\", \"rb\") as f:\n",
    "        data_cluster = pickle.load(f)\n",
    "\n",
    "with open(\"data/cluster_filiacion_authorrank_500.pkl\", \"rb\") as f:\n",
    "        data_cluster_filiacion = pickle.load(f)\n",
    "\n",
    "salida_articulos = pd.read_excel(\"data/output_articles.xlsx\")\n",
    "salidas_topicos = pd.read_excel(\"data/salidas_topicos_CB.xlsx\")\n",
    "salida_autores = pd.read_excel(\"data/salida_autores.xlsx\")\n",
    "\n",
    "\n",
    "#El nuevo data_papers viene con los values de nodos en entero, hay que convertirlos a str para que el codigo funcione sin modificaciones.\n",
    "data_papers_str = {}\n",
    "for key, value in data_papers.items():\n",
    "    data_papers_str[key] = [str(node) for node in value]\n",
    "\n",
    "data_papers = data_papers_str"
   ]
  },
  {
   "cell_type": "code",
   "execution_count": 2,
   "metadata": {},
   "outputs": [],
   "source": [
    "# La enumeracion del cluster va en orden descendente de acuerdo al \n",
    "# orden de los grandes productores\n",
    "\n",
    "Enumerar_cluster = {}\n",
    "\n",
    "for i, ele in enumerate(data_cluster, start = 1):\n",
    "    Enumerar_cluster[i] = ele.split('_')\n",
    "\n",
    "Enumerar_nodo = {}\n",
    "for key, lista_nodos in Enumerar_cluster.items():\n",
    "    for nodo in lista_nodos:\n",
    "        Enumerar_nodo[nodo] = key"
   ]
  },
  {
   "cell_type": "code",
   "execution_count": 3,
   "metadata": {},
   "outputs": [],
   "source": [
    "# Encontrar las conexciones entre comunidades\n",
    "\n",
    "n_comunidades = 200\n",
    "\n",
    "\n",
    "\n",
    "# Necesito una lista de total de artículos por comunidad\n",
    "list_paper_comunidad = {}\n",
    "\n",
    "for i in range(1,n_comunidades):\n",
    "    total_papers = []\n",
    "    for node in Enumerar_cluster[i]:\n",
    "        paper_node = data_autores[node]['articulos']\n",
    "        total_papers = total_papers + paper_node\n",
    "\n",
    "    list_paper_comunidad[i] = set(total_papers)\n",
    "\n",
    "\n",
    "# Necesito contar los paper en comun\n",
    "import itertools\n",
    "\n",
    "inicio = []\n",
    "final = []\n",
    "articulos = []\n",
    "\n",
    "combinaciones = list(itertools.combinations(list_paper_comunidad.keys(), 2))\n",
    "\n",
    "for x,y in combinaciones:\n",
    "    paper_comn1 = list(list_paper_comunidad[x])\n",
    "    paper_comn2 = list(list_paper_comunidad[y])\n",
    "\n",
    "    paper_comun = [elemento for elemento in paper_comn1 if elemento in paper_comn2]\n",
    "    # if len(paper_comun) != 0:\n",
    "    inicio.append(str(x))\n",
    "    final.append(str(y))\n",
    "    articulos.append(len(paper_comun))\n",
    "\n",
    "    # print(f'papers en comun entre comunidad {x}, {y}, {len(paper_comun)}')\n",
    "\n",
    "# Debemos contar los extranjeros por comunidad, ie, los no Chilenos\n",
    "\n",
    "contar_extranjeros = {}\n",
    "for id, nodes in Enumerar_cluster.items():\n",
    "    count = 0\n",
    "    for node in nodes:\n",
    "        if data_autores[node]['country'] == 'chile':\n",
    "            # print(f'{id}, {data_autores[node][\"nombre_autor\"]}')\n",
    "            count += 1\n",
    "    contar_extranjeros[id] = {\"extranjeros\": len(nodes) - count,\n",
    "                              \"chile\": count,\n",
    "                              \"mayoria\": 'si' if ((len(nodes) - count)/len(nodes))*100 > 50 else 'no'}\n",
    "    \n",
    "# mayoria se define como un 50% o más de extranjeros\n",
    "# contar_extranjeros\n"
   ]
  },
  {
   "cell_type": "code",
   "execution_count": 4,
   "metadata": {},
   "outputs": [],
   "source": [
    "comn_net = Network(height=\"750px\", width=\"100%\", bgcolor=\"#222222\", font_color=\"white\", notebook=True, cdn_resources='in_line')\n",
    "# comn_net = Network(height=\"750px\", width=\"100%\", bgcolor=\"#222222\", font_color=\"white\")\n",
    "# edge_data = zip(inicio, final, articulos)\n",
    "\n",
    "# Agregar nodos y bordes a la red\n",
    "edge_data = zip(inicio, final, articulos)\n",
    "\n",
    "for src, dst, w in edge_data:\n",
    "    comn_net.add_node(src, src, title=src)\n",
    "    comn_net .add_node(dst, dst, title=dst)\n",
    "    if w != 0:\n",
    "        comn_net.add_edge(src, dst, value=w)  "
   ]
  },
  {
   "cell_type": "code",
   "execution_count": 5,
   "metadata": {},
   "outputs": [],
   "source": [
    "for node in comn_net.nodes:\n",
    "    \n",
    "    int_node = int(node[\"id\"])\n",
    "    n = len(list_paper_comunidad[int_node])\n",
    "    \n",
    "    node[\"label\"] = node[\"id\"]\n",
    "    node[\"value\"] = 20 * n\n",
    "    node[\"font\"] = {\"size\":  n, \"color\": \"white\"}\n",
    "\n",
    "    cluster = Enumerar_cluster[int_node]\n",
    "    lista_nombres = \"\\n\"\n",
    "    for node_c in cluster:\n",
    "        n_art = data_autores[node_c]['n_articulos']\n",
    "        lista_nombres += data_autores[node_c]['nombre_autor'] + \": número artículos \" + str(n_art) + \" \\n\"\n",
    "\n",
    "    node[\"title\"] = \"Comunidad \" + str(int_node) +  \"\\n Total artículos \" + str(n) + \" \\n Miembros de la comunidad: \" + lista_nombres \n",
    " \n",
    "\n",
    "    if contar_extranjeros[int_node][\"mayoria\"] == 'si':\n",
    "        node[\"color\"] = \"Green\"\n",
    "    else:\n",
    "        node[\"color\"] = 'Red'"
   ]
  },
  {
   "cell_type": "code",
   "execution_count": 6,
   "metadata": {},
   "outputs": [
    {
     "name": "stdout",
     "output_type": "stream",
     "text": [
      "GrafoComunidadAutores.html\n"
     ]
    },
    {
     "data": {
      "text/html": [
       "\n",
       "        <iframe\n",
       "            width=\"100%\"\n",
       "            height=\"750px\"\n",
       "            src=\"GrafoComunidadAutores.html\"\n",
       "            frameborder=\"0\"\n",
       "            allowfullscreen\n",
       "            \n",
       "        ></iframe>\n",
       "        "
      ],
      "text/plain": [
       "<IPython.lib.display.IFrame at 0x27cdeff89d0>"
      ]
     },
     "execution_count": 6,
     "metadata": {},
     "output_type": "execute_result"
    }
   ],
   "source": [
    "comn_net.show('GrafoComunidadAutores.html')"
   ]
  }
 ],
 "metadata": {
  "kernelspec": {
   "display_name": "py39_ia",
   "language": "python",
   "name": "python3"
  },
  "language_info": {
   "codemirror_mode": {
    "name": "ipython",
    "version": 3
   },
   "file_extension": ".py",
   "mimetype": "text/x-python",
   "name": "python",
   "nbconvert_exporter": "python",
   "pygments_lexer": "ipython3",
   "version": "3.9.18"
  }
 },
 "nbformat": 4,
 "nbformat_minor": 2
}
